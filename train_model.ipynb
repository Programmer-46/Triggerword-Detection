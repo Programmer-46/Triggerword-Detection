{
  "nbformat": 4,
  "nbformat_minor": 0,
  "metadata": {
    "accelerator": "TPU",
    "colab": {
      "name": "train_model.ipynb",
      "provenance": [],
      "collapsed_sections": []
    },
    "kernelspec": {
      "display_name": "Python 3",
      "name": "python3"
    },
    "language_info": {
      "name": "python"
    }
  },
  "cells": [
    {
      "cell_type": "code",
      "metadata": {
        "colab": {
          "base_uri": "https://localhost:8080/"
        },
        "id": "_KwZQK-AYI2l",
        "outputId": "6fb4cbf8-5578-42a8-960f-3dcfd5ddf699"
      },
      "source": [
        "!pip install pydub"
      ],
      "execution_count": null,
      "outputs": [
        {
          "output_type": "stream",
          "text": [
            "Requirement already satisfied: pydub in /usr/local/lib/python3.7/dist-packages (0.25.1)\n"
          ],
          "name": "stdout"
        }
      ]
    },
    {
      "cell_type": "code",
      "metadata": {
        "id": "4E8l7cPqAZGw"
      },
      "source": [
        "import random\n",
        "import numpy as np\n",
        "from pydub import AudioSegment\n",
        "import random\n",
        "import sys\n",
        "import io\n",
        "from sklearn.model_selection import StratifiedKFold\n",
        "import os\n",
        "import glob\n",
        "import IPython\n",
        "from td_utils import *\n",
        "%matplotlib inline"
      ],
      "execution_count": null,
      "outputs": []
    },
    {
      "cell_type": "code",
      "metadata": {
        "id": "oVbyMNeT4t-T"
      },
      "source": [
        "Tx = 5511 # The number of time steps input to the model from the spectrogram\n",
        "n_freq = 101 # Number of frequencies input to the model at each time step of the spectrogram"
      ],
      "execution_count": null,
      "outputs": []
    },
    {
      "cell_type": "code",
      "metadata": {
        "id": "v2VgdDyQ4qnS"
      },
      "source": [
        "Ty = 1375 # The number of time steps in the output of our model"
      ],
      "execution_count": null,
      "outputs": []
    },
    {
      "cell_type": "code",
      "metadata": {
        "colab": {
          "base_uri": "https://localhost:8080/"
        },
        "id": "bNK2eGAo3Pae",
        "outputId": "dddb0abb-3ee5-4f13-b39a-dda1aafc1d0f"
      },
      "source": [
        "# Load preprocessed training examples\n",
        "X = np.load(\"/content/drive/MyDrive/npy/train_val/X_train_val.npy\")\n",
        "print(X.shape)\n",
        "Y = np.load(\"/content/drive/MyDrive/npy/train_val/Y_train_val.npy\")\n",
        "print(Y.shape)"
      ],
      "execution_count": null,
      "outputs": [
        {
          "output_type": "stream",
          "text": [
            "(1225, 5511, 101)\n",
            "(1225, 1375, 1)\n"
          ],
          "name": "stdout"
        }
      ]
    },
    {
      "cell_type": "code",
      "metadata": {
        "id": "6BkzBFj_vx3U"
      },
      "source": [
        "idx = np.random.permutation(len(X))\n",
        "X,Y = X[idx], Y[idx]"
      ],
      "execution_count": null,
      "outputs": []
    },
    {
      "cell_type": "code",
      "metadata": {
        "id": "vd3LNYK44TjB"
      },
      "source": [
        "from keras.callbacks import ModelCheckpoint\n",
        "from keras.callbacks import ReduceLROnPlateau\n",
        "from keras.models import Model, load_model, Sequential\n",
        "from keras.layers import Dense, Activation, Dropout, Input, Masking, TimeDistributed, LSTM, Conv1D\n",
        "from keras.layers import GRU, Bidirectional, BatchNormalization, Reshape\n",
        "from keras.optimizers import Adam"
      ],
      "execution_count": null,
      "outputs": []
    },
    {
      "cell_type": "code",
      "metadata": {
        "id": "1o_sVuTRAbVX"
      },
      "source": [
        "random.seed(42)"
      ],
      "execution_count": null,
      "outputs": []
    },
    {
      "cell_type": "code",
      "metadata": {
        "colab": {
          "base_uri": "https://localhost:8080/"
        },
        "id": "McT1IDzgwztv",
        "outputId": "7f05a0d1-a52e-4757-f99c-5535b299d758"
      },
      "source": [
        "len(X)"
      ],
      "execution_count": null,
      "outputs": [
        {
          "output_type": "execute_result",
          "data": {
            "text/plain": [
              "1225"
            ]
          },
          "metadata": {
            "tags": []
          },
          "execution_count": 10
        }
      ]
    },
    {
      "cell_type": "code",
      "metadata": {
        "id": "6VMBws404XnJ"
      },
      "source": [
        "def model(input_shape):\n",
        "    \"\"\"\n",
        "    Pauls
        "    Function creating the model's graph in Keras.\n",
        "    \n",
        "    Argument:\n",
        "    input_shape -- shape of the model's input data (using Keras conventions)\n",
        "\n",
        "    Returns:\n",
        "    model -- Keras model instance\n",
        "    \"\"\"\n",
        "    \n",
        "    X_input = Input(shape = input_shape)\n",
        "    \n",
        "    ### START CODE HERE ###\n",
        "    \n",
        "    # Step 1: CONV layer (≈4 lines)\n",
        "    X = Conv1D(196, 15, strides=4)(X_input)                    # CONV1D\n",
        "    X = BatchNormalization()(X)                                # Batch normalization\n",
        "    X = Activation('relu')(X)                                  # ReLu activation\n",
        "    X = Dropout(0.8)(X)                                        # dropout (use 0.8)\n",
        "\n",
        "    # Step 2: First GRU Layer (≈4 lines)\n",
        "    X = GRU(units = 128, return_sequences=True)(X)             # GRU (use 128 units and return the sequences)\n",
        "    X = Dropout(0.8)(X)                                        # dropout (use 0.8)\n",
        "    X = BatchNormalization()(X)                                # Batch normalization\n",
        "    \n",
        "    # Step 3: Second GRU Layer (≈4 lines)\n",
        "    X = GRU(units = 128, return_sequences=True)(X)             # GRU (use 128 units and return the sequences)\n",
        "    X = Dropout(0.8)(X)                                        # dropout (use 0.8)\n",
        "    X = BatchNormalization()(X)                                # Batch normalization\n",
        "    X = Dropout(0.8)(X)                                        # dropout (use 0.8)\n",
        "    \n",
        "    # Step 4: Time-distributed dense layer (≈1 line)\n",
        "    X = TimeDistributed(Dense(1, activation = \"sigmoid\"))(X) # time distributed  (sigmoid)\n",
        "\n",
        "    ### END CODE HERE ###\n",
        "\n",
        "    model = Model(inputs = X_input, outputs = X)\n",
        "    \n",
        "    return model"
      ],
      "execution_count": null,
      "outputs": []
    },
    {
      "cell_type": "code",
      "metadata": {
        "id": "eJ0b48L44d4R"
      },
      "source": [
        "model = model(input_shape = (Tx, n_freq))"
      ],
      "execution_count": null,
      "outputs": []
    },
    {
      "cell_type": "code",
      "metadata": {
        "colab": {
          "base_uri": "https://localhost:8080/"
        },
        "id": "mIPIG8D54iLy",
        "outputId": "c086320a-4123-4102-c632-610e03c10b73"
      },
      "source": [
        "model.summary()"
      ],
      "execution_count": null,
      "outputs": [
        {
          "output_type": "stream",
          "text": [
            "Model: \"model\"\n",
            "_________________________________________________________________\n",
            "Layer (type)                 Output Shape              Param #   \n",
            "=================================================================\n",
            "input_1 (InputLayer)         [(None, 5511, 101)]       0         \n",
            "_________________________________________________________________\n",
            "conv1d (Conv1D)              (None, 1375, 196)         297136    \n",
            "_________________________________________________________________\n",
            "batch_normalization (BatchNo (None, 1375, 196)         784       \n",
            "_________________________________________________________________\n",
            "activation (Activation)      (None, 1375, 196)         0         \n",
            "_________________________________________________________________\n",
            "dropout (Dropout)            (None, 1375, 196)         0         \n",
            "_________________________________________________________________\n",
            "gru (GRU)                    (None, 1375, 128)         125184    \n",
            "_________________________________________________________________\n",
            "dropout_1 (Dropout)          (None, 1375, 128)         0         \n",
            "_________________________________________________________________\n",
            "batch_normalization_1 (Batch (None, 1375, 128)         512       \n",
            "_________________________________________________________________\n",
            "gru_1 (GRU)                  (None, 1375, 128)         99072     \n",
            "_________________________________________________________________\n",
            "dropout_2 (Dropout)          (None, 1375, 128)         0         \n",
            "_________________________________________________________________\n",
            "batch_normalization_2 (Batch (None, 1375, 128)         512       \n",
            "_________________________________________________________________\n",
            "dropout_3 (Dropout)          (None, 1375, 128)         0         \n",
            "_________________________________________________________________\n",
            "time_distributed (TimeDistri (None, 1375, 1)           129       \n",
            "=================================================================\n",
            "Total params: 523,329\n",
            "Trainable params: 522,425\n",
            "Non-trainable params: 904\n",
            "_________________________________________________________________\n"
          ],
          "name": "stdout"
        }
      ]
    },
    {
      "cell_type": "code",
      "metadata": {
        "id": "eobWdr4F44ZS"
      },
      "source": [
        "opt = Adam(learning_rate=0.015, beta_1=0.9, beta_2=0.999, decay=0.01)\n",
        "model.compile(loss='binary_crossentropy', optimizer=opt, metrics=[\"accuracy\"])"
      ],
      "execution_count": null,
      "outputs": []
    },
    {
      "cell_type": "code",
      "metadata": {
        "colab": {
          "base_uri": "https://localhost:8080/"
        },
        "id": "pc-cBtRg5GK6",
        "outputId": "ff557507-f4d1-4112-eb51-4a650b624637"
      },
      "source": [
        "#reduce_lr = ReduceLROnPlateau(monitor='accuracy', factor=0.1, patience=5, min_lr=0.0001)\n",
        "H = model.fit(X, Y, validation_split = 0.2, batch_size =10, epochs=50)"
      ],
      "execution_count": null,
      "outputs": [
        {
          "output_type": "stream",
          "text": [
            "Epoch 1/50\n",
            "98/98 [==============================] - 291s 3s/step - loss: 0.5061 - accuracy: 0.8151 - val_loss: 0.2846 - val_accuracy: 0.9322\n",
            "Epoch 2/50\n",
            "98/98 [==============================] - 258s 3s/step - loss: 0.2530 - accuracy: 0.9313 - val_loss: 0.5399 - val_accuracy: 0.9322\n",
            "Epoch 3/50\n",
            "98/98 [==============================] - 252s 3s/step - loss: 0.2213 - accuracy: 0.9300 - val_loss: 0.2060 - val_accuracy: 0.9322\n",
            "Epoch 4/50\n",
            "98/98 [==============================] - 251s 3s/step - loss: 0.1879 - accuracy: 0.9313 - val_loss: 0.1662 - val_accuracy: 0.9322\n",
            "Epoch 5/50\n",
            "98/98 [==============================] - 252s 3s/step - loss: 0.1764 - accuracy: 0.9328 - val_loss: 0.1619 - val_accuracy: 0.9351\n",
            "Epoch 6/50\n",
            "98/98 [==============================] - 247s 3s/step - loss: 0.1729 - accuracy: 0.9327 - val_loss: 0.1842 - val_accuracy: 0.9327\n",
            "Epoch 7/50\n",
            "98/98 [==============================] - 249s 3s/step - loss: 0.1648 - accuracy: 0.9344 - val_loss: 0.1591 - val_accuracy: 0.9385\n",
            "Epoch 8/50\n",
            "98/98 [==============================] - 248s 3s/step - loss: 0.1602 - accuracy: 0.9347 - val_loss: 0.1583 - val_accuracy: 0.9382\n",
            "Epoch 9/50\n",
            "98/98 [==============================] - 250s 3s/step - loss: 0.1591 - accuracy: 0.9354 - val_loss: 0.1532 - val_accuracy: 0.9402\n",
            "Epoch 10/50\n",
            "98/98 [==============================] - 247s 3s/step - loss: 0.1566 - accuracy: 0.9357 - val_loss: 0.1671 - val_accuracy: 0.9350\n",
            "Epoch 11/50\n",
            "98/98 [==============================] - 247s 3s/step - loss: 0.1599 - accuracy: 0.9359 - val_loss: 0.1630 - val_accuracy: 0.9375\n",
            "Epoch 12/50\n",
            "98/98 [==============================] - 247s 3s/step - loss: 0.1557 - accuracy: 0.9364 - val_loss: 0.1725 - val_accuracy: 0.9331\n",
            "Epoch 13/50\n",
            "98/98 [==============================] - 247s 3s/step - loss: 0.1558 - accuracy: 0.9351 - val_loss: 0.1707 - val_accuracy: 0.9353\n",
            "Epoch 14/50\n",
            "98/98 [==============================] - 247s 3s/step - loss: 0.1430 - accuracy: 0.9411 - val_loss: 0.1691 - val_accuracy: 0.9357\n",
            "Epoch 15/50\n",
            "98/98 [==============================] - 255s 3s/step - loss: 0.1473 - accuracy: 0.9387 - val_loss: 0.1711 - val_accuracy: 0.9384\n",
            "Epoch 16/50\n",
            "98/98 [==============================] - 258s 3s/step - loss: 0.1501 - accuracy: 0.9369 - val_loss: 0.1953 - val_accuracy: 0.9335\n",
            "Epoch 17/50\n",
            "98/98 [==============================] - 256s 3s/step - loss: 0.1504 - accuracy: 0.9366 - val_loss: 0.1760 - val_accuracy: 0.9337\n",
            "Epoch 18/50\n",
            "98/98 [==============================] - 254s 3s/step - loss: 0.1452 - accuracy: 0.9397 - val_loss: 0.1675 - val_accuracy: 0.9346\n",
            "Epoch 19/50\n",
            "98/98 [==============================] - 250s 3s/step - loss: 0.1443 - accuracy: 0.9400 - val_loss: 0.1873 - val_accuracy: 0.9349\n",
            "Epoch 20/50\n",
            "98/98 [==============================] - 250s 3s/step - loss: 0.1477 - accuracy: 0.9387 - val_loss: 0.1837 - val_accuracy: 0.9331\n",
            "Epoch 21/50\n",
            "98/98 [==============================] - 250s 3s/step - loss: 0.1464 - accuracy: 0.9391 - val_loss: 0.1585 - val_accuracy: 0.9360\n",
            "Epoch 22/50\n",
            "98/98 [==============================] - 252s 3s/step - loss: 0.1531 - accuracy: 0.9379 - val_loss: 0.1641 - val_accuracy: 0.9376\n",
            "Epoch 23/50\n",
            "98/98 [==============================] - 253s 3s/step - loss: 0.1448 - accuracy: 0.9416 - val_loss: 0.1599 - val_accuracy: 0.9375\n",
            "Epoch 24/50\n",
            "98/98 [==============================] - 267s 3s/step - loss: 0.1460 - accuracy: 0.9401 - val_loss: 0.1547 - val_accuracy: 0.9384\n",
            "Epoch 25/50\n",
            "98/98 [==============================] - 256s 3s/step - loss: 0.1446 - accuracy: 0.9392 - val_loss: 0.1550 - val_accuracy: 0.9380\n",
            "Epoch 26/50\n",
            "98/98 [==============================] - 253s 3s/step - loss: 0.1434 - accuracy: 0.9392 - val_loss: 0.1623 - val_accuracy: 0.9347\n",
            "Epoch 27/50\n",
            "98/98 [==============================] - 257s 3s/step - loss: 0.1448 - accuracy: 0.9388 - val_loss: 0.1740 - val_accuracy: 0.9333\n",
            "Epoch 28/50\n",
            "98/98 [==============================] - 251s 3s/step - loss: 0.1367 - accuracy: 0.9415 - val_loss: 0.1641 - val_accuracy: 0.9356\n",
            "Epoch 29/50\n",
            "98/98 [==============================] - 250s 3s/step - loss: 0.1416 - accuracy: 0.9416 - val_loss: 0.1697 - val_accuracy: 0.9353\n",
            "Epoch 30/50\n",
            "98/98 [==============================] - 250s 3s/step - loss: 0.1374 - accuracy: 0.9419 - val_loss: 0.1639 - val_accuracy: 0.9369\n",
            "Epoch 31/50\n",
            "98/98 [==============================] - 249s 3s/step - loss: 0.1393 - accuracy: 0.9404 - val_loss: 0.1656 - val_accuracy: 0.9343\n",
            "Epoch 32/50\n",
            "98/98 [==============================] - 248s 3s/step - loss: 0.1405 - accuracy: 0.9408 - val_loss: 0.1600 - val_accuracy: 0.9377\n",
            "Epoch 33/50\n",
            "98/98 [==============================] - 249s 3s/step - loss: 0.1370 - accuracy: 0.9416 - val_loss: 0.1678 - val_accuracy: 0.9370\n",
            "Epoch 34/50\n",
            "98/98 [==============================] - 249s 3s/step - loss: 0.1348 - accuracy: 0.9412 - val_loss: 0.1643 - val_accuracy: 0.9380\n",
            "Epoch 35/50\n",
            "98/98 [==============================] - 249s 3s/step - loss: 0.1398 - accuracy: 0.9391 - val_loss: 0.1885 - val_accuracy: 0.9345\n",
            "Epoch 36/50\n",
            "98/98 [==============================] - 250s 3s/step - loss: 0.1784 - accuracy: 0.9293 - val_loss: 0.1737 - val_accuracy: 0.9344\n",
            "Epoch 37/50\n",
            "98/98 [==============================] - 250s 3s/step - loss: 0.1514 - accuracy: 0.9383 - val_loss: 0.1688 - val_accuracy: 0.9398\n",
            "Epoch 38/50\n",
            "98/98 [==============================] - 248s 3s/step - loss: 0.1494 - accuracy: 0.9379 - val_loss: 0.1833 - val_accuracy: 0.9364\n",
            "Epoch 39/50\n",
            "98/98 [==============================] - 250s 3s/step - loss: 0.1509 - accuracy: 0.9387 - val_loss: 0.1705 - val_accuracy: 0.9354\n",
            "Epoch 40/50\n",
            "98/98 [==============================] - 250s 3s/step - loss: 0.1507 - accuracy: 0.9366 - val_loss: 0.1776 - val_accuracy: 0.9356\n",
            "Epoch 41/50\n",
            "98/98 [==============================] - 251s 3s/step - loss: 0.1490 - accuracy: 0.9373 - val_loss: 0.1862 - val_accuracy: 0.9352\n",
            "Epoch 42/50\n",
            "98/98 [==============================] - 251s 3s/step - loss: 0.1425 - accuracy: 0.9408 - val_loss: 0.1815 - val_accuracy: 0.9341\n",
            "Epoch 43/50\n",
            "98/98 [==============================] - 253s 3s/step - loss: 0.1421 - accuracy: 0.9406 - val_loss: 0.1835 - val_accuracy: 0.9352\n",
            "Epoch 44/50\n",
            "98/98 [==============================] - 255s 3s/step - loss: 0.1419 - accuracy: 0.9417 - val_loss: 0.1830 - val_accuracy: 0.9341\n",
            "Epoch 45/50\n",
            "98/98 [==============================] - 250s 3s/step - loss: 0.1406 - accuracy: 0.9418 - val_loss: 0.1783 - val_accuracy: 0.9327\n",
            "Epoch 46/50\n",
            "98/98 [==============================] - 250s 3s/step - loss: 0.1428 - accuracy: 0.9403 - val_loss: 0.1788 - val_accuracy: 0.9341\n",
            "Epoch 47/50\n",
            "98/98 [==============================] - 248s 3s/step - loss: 0.1435 - accuracy: 0.9383 - val_loss: 0.1810 - val_accuracy: 0.9371\n",
            "Epoch 48/50\n",
            "98/98 [==============================] - 247s 3s/step - loss: 0.1393 - accuracy: 0.9408 - val_loss: 0.1912 - val_accuracy: 0.9327\n",
            "Epoch 49/50\n",
            "98/98 [==============================] - 247s 3s/step - loss: 0.1407 - accuracy: 0.9416 - val_loss: 0.1701 - val_accuracy: 0.9359\n",
            "Epoch 50/50\n",
            "98/98 [==============================] - 249s 3s/step - loss: 0.1404 - accuracy: 0.9398 - val_loss: 0.1879 - val_accuracy: 0.9331\n"
          ],
          "name": "stdout"
        }
      ]
    },
    {
      "cell_type": "markdown",
      "metadata": {
        "id": "xzKmTVdcxtUM"
      },
      "source": [
        ""
      ]
    },
    {
      "cell_type": "markdown",
      "metadata": {
        "id": "dOD6npCsywVm"
      },
      "source": [
        "**LOSS CURVE**"
      ]
    },
    {
      "cell_type": "code",
      "metadata": {
        "id": "wN-xWZK95Wu5"
      },
      "source": [
        "# plot the training loss and accuracy\n",
        "N = 50 # no of epochs\n",
        "plt.style.use(\"ggplot\")\n",
        "plt.figure()\n",
        "plt.plot(np.arange(0, N), H.history[\"loss\"], label=\"train_loss\")\n",
        "\n",
        "plt.plot(np.arange(0, N), H.history[\"val_loss\"], label=\"val_loss\")\n",
        "\n",
        "plt.title(\"Training Loss and Val loss on Trigger word Detection\")\n",
        "plt.xlabel(\"Epoch #\")\n",
        "plt.ylabel(\"Loss\")\n",
        "plt.legend(loc=\"lower left\")"
      ],
      "execution_count": null,
      "outputs": []
    },
    {
      "cell_type": "markdown",
      "metadata": {
        "id": "YUiyl8miCtlI"
      },
      "source": [
        "**ACCURACY CURVE**"
      ]
    },
    {
      "cell_type": "code",
      "metadata": {
        "colab": {
          "background_save": true
        },
        "id": "r43RnCvD5ZUP"
      },
      "source": [
        "# plot the training loss and accuracy\n",
        "N = 50 # no of epochs\n",
        "plt.style.use(\"ggplot\")\n",
        "plt.figure()\n",
        "plt.plot(np.arange(0, N), H.history[\"accuracy\"], label=\"train_accuracy\")\n",
        "\n",
        "plt.plot(np.arange(0, N), H.history[\"val_accuracy\"], label=\"val_accuracy\")\n",
        "\n",
        "plt.title(\"Training and Validation Accuracy on Trigger word Detection\")\n",
        "plt.xlabel(\"Epoch #\")\n",
        "plt.ylabel(\"Accuracy\")\n",
        "plt.legend(loc=\"lower left\")"
      ],
      "execution_count": null,
      "outputs": []
    },
    {
      "cell_type": "code",
      "metadata": {
        "colab": {
          "base_uri": "https://localhost:8080/"
        },
        "id": "cyfXoCB74PHq",
        "outputId": "9f20d6a8-6c4f-49ac-eb6e-2af0de4a873c"
      },
      "source": [
        "# Load preprocessed dev set examples\n",
        "X_dev = np.load(\"/content/drive/MyDrive/npy/dev/X_dev.npy\")\n",
        "Y_dev = np.load(\"/content/drive/MyDrive/npy/dev/Y_dev.npy\")\n",
        "print(X_dev.shape)\n",
        "print(Y_dev.shape)"
      ],
      "execution_count": null,
      "outputs": [
        {
          "output_type": "stream",
          "text": [
            "(213, 5511, 101)\n",
            "(213, 1375, 1)\n"
          ],
          "name": "stdout"
        }
      ]
    },
    {
      "cell_type": "code",
      "metadata": {
        "colab": {
          "base_uri": "https://localhost:8080/"
        },
        "id": "NIwbjppU5Je5",
        "outputId": "5ed58a16-cbe5-43d9-8687-14c5437b69a7"
      },
      "source": [
        "loss, acc = model.evaluate(X_dev, Y_dev)\n",
        "print(\"Dev set accuracy = \", acc)\n",
        "print(\"Dev set loss = \", loss)"
      ],
      "execution_count": null,
      "outputs": [
        {
          "output_type": "stream",
          "text": [
            "7/7 [==============================] - 8s 1s/step - loss: 0.1807 - accuracy: 0.9283\n",
            "Dev set accuracy =  0.928307294845581\n",
            "Dev set loss =  0.18065288662910461\n"
          ],
          "name": "stdout"
        }
      ]
    },
    {
      "cell_type": "code",
      "metadata": {
        "colab": {
          "base_uri": "https://localhost:8080/"
        },
        "id": "2HnQDgSeEvIt",
        "outputId": "94f78d71-d0e9-4460-80a1-ee39bfadc47f"
      },
      "source": [
        "# serialize the model to disk\n",
        "print(\"[INFO] saving trigger detector model...\")\n",
        "model.save(\"/content/drive/MyDrive/model/good_fit_model_50_model.model\", save_format=\"h5\")"
      ],
      "execution_count": null,
      "outputs": [
        {
          "output_type": "stream",
          "text": [
            "[INFO] saving trigger detector model...\n"
          ],
          "name": "stdout"
        }
      ]
    }
  ]
}
